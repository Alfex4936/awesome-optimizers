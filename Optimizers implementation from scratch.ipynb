{
 "cells": [
  {
   "cell_type": "code",
   "execution_count": null,
   "metadata": {
    "collapsed": false
   },
   "outputs": [],
   "source": [
    "%matplotlib inline\n",
    "import numpy as np\n",
    "import matplotlib.pyplot as plt\n",
    "from mpl_toolkits.mplot3d import Axes3D\n",
    "import seaborn as sns\n",
    "from sklearn.metrics import mean_absolute_error"
   ]
  },
  {
   "cell_type": "code",
   "execution_count": null,
   "metadata": {
    "collapsed": false
   },
   "outputs": [],
   "source": [
    "# f' = 0.26 * (x**2 + y**2) - 0.48*x*y\n",
    "# e = (f' - f) ** 2 = (0.26 * (x ** 2 + y ** 2) - 0.48 * x * y - f) ** 2\n",
    "# de/dx = 2 * f' * (0.52*x - 0.48*y)\n",
    "# de/dy = de/dx\n",
    "\n",
    "ff = lambda x, y: 10 * x**2 + 0.05 * y**2\n",
    "df_dx = lambda x, y: 20*x\n",
    "df_dy = lambda x, y: 0.2*y\n",
    "\n",
    "x_start = 5.0\n",
    "y_start = -50"
   ]
  },
  {
   "cell_type": "code",
   "execution_count": null,
   "metadata": {
    "collapsed": false,
    "scrolled": false
   },
   "outputs": [],
   "source": [
    "fig = plt.figure(figsize=[20,12])\n",
    "ax = fig.gca(projection='3d')\n",
    "x = y = np.arange(-4.0, 4.0000001, 0.1)\n",
    "y = np.arange(0, 2, 0.1)\n",
    "X, Y = np.meshgrid(x, y)\n",
    "zs = np.array([ff(x,y) for x,y in zip(np.ravel(X), np.ravel(Y))])\n",
    "Z = zs.reshape(X.shape)\n",
    "Gx, Gy = np.gradient(Z) # gradients with respect to x and y\n",
    "G = (Gx**2.0+Gy**2.0)**.5  # gradient magnitude\n",
    "N = G/G.max()  # normalize 0..1\n",
    "\n",
    "ax.plot_surface(X, Y, Z, cmap=plt.cm.coolwarm, antialiased=False, shade=False, \n",
    "                rstride=5, cstride=1, linewidth=0)\n",
    "#ax.set_aspect(0.3)\n",
    "\n",
    "ax.set_xlabel('X Label')\n",
    "ax.set_ylabel('Y Label')\n",
    "ax.set_zlabel('Z Label')\n",
    "\n",
    "plt.show()"
   ]
  },
  {
   "cell_type": "markdown",
   "metadata": {},
   "source": [
    "# Stochastic Gradient Descent"
   ]
  },
  {
   "cell_type": "code",
   "execution_count": null,
   "metadata": {
    "collapsed": true
   },
   "outputs": [],
   "source": [
    "class SGD():\n",
    "    def __init__(self, lr=0.001, x=None, y=None):\n",
    "        self.lr = lr\n",
    "        if x==None or y==None:\n",
    "            self.x = np.random.rand()*10-5\n",
    "            self.y = np.random.rand()*10-5\n",
    "        else:\n",
    "            self.x = x\n",
    "            self.y = y\n",
    "    def step(self, lr = None):\n",
    "        if not lr:\n",
    "            lr = self.lr\n",
    "        # derivative\n",
    "        f = ff(self.x, self.y)\n",
    "        dx = df_dx(self.x, self.y)\n",
    "        dy = df_dy(self.x, self.y)\n",
    "        self.x = self.x - lr*dx\n",
    "        self.y = self.y - lr*dy\n",
    "        return [self.x, self.y, dx, dy]\n",
    "        "
   ]
  },
  {
   "cell_type": "code",
   "execution_count": null,
   "metadata": {
    "collapsed": false
   },
   "outputs": [],
   "source": [
    "np.random.seed(655324)\n",
    "opt = SGD(x=x_start, y=y_start)\n",
    "errors=[]\n",
    "xs,ys, dxs,dys= [x_start],[y_start],[],[]\n",
    "sns.set_context(\"talk\")\n",
    "for epochs in range(300):\n",
    "    x, y, dx, dy = opt.step(lr=0.03333)\n",
    "    xs.append(x)\n",
    "    ys.append(y)\n",
    "    dxs.append(dx)\n",
    "    dys.append(dy)\n",
    "    errors.append(ff(x,y))\n",
    "plt.figure(figsize=[18,6])\n",
    "plt.plot(errors)\n",
    "plt.title(\"Error evolution over time. Minimum error obtained in {0} iterations: {1}\".format(len(errors), min(errors)))\n",
    "plt.xlabel(\"time (iterations)\")\n",
    "plt.ylabel(\"error\")\n",
    "plt.show()\n",
    "errors_sgd = errors"
   ]
  },
  {
   "cell_type": "markdown",
   "metadata": {},
   "source": [
    "### Spatial evolution"
   ]
  },
  {
   "cell_type": "code",
   "execution_count": null,
   "metadata": {
    "collapsed": false
   },
   "outputs": [],
   "source": [
    "plt.figure(figsize=[18,6])\n",
    "plt.subplot(131)\n",
    "plt.plot(xs)\n",
    "plt.title(\"X parameter evolution\")\n",
    "plt.xlabel(\"iterations\")\n",
    "plt.subplot(132)\n",
    "plt.plot(ys)\n",
    "plt.title(\"Y parameter evolution\")\n",
    "plt.xlabel(\"iterations\")\n",
    "plt.subplot(133)\n",
    "plt.plot(xs, ys)\n",
    "plt.title(\"x/y evolution\")\n",
    "plt.xlabel(\"x\")\n",
    "plt.show()"
   ]
  },
  {
   "cell_type": "markdown",
   "metadata": {},
   "source": [
    "### Dynamic evolution"
   ]
  },
  {
   "cell_type": "code",
   "execution_count": null,
   "metadata": {
    "collapsed": false
   },
   "outputs": [],
   "source": [
    "vel_xs=np.diff(xs)\n",
    "vel_ys=np.diff(ys)\n",
    "plt.figure(figsize=[18,6])\n",
    "plt.subplot(131)\n",
    "plt.plot(np.abs(vel_xs[0:100]))\n",
    "plt.title(\"X parameter velocity (momentum; $v_x$)\")\n",
    "plt.xlabel(\"iterations\")\n",
    "plt.subplot(132)\n",
    "plt.plot(np.abs(vel_ys[0:100]))\n",
    "plt.title(\"Y parameter velocity (momentum; $v_y$)\")\n",
    "plt.xlabel(\"iterations\")\n",
    "plt.subplot(133)\n",
    "plt.plot(np.sqrt(np.array(vel_xs[0:100])**2 + np.array(vel_ys[0:100])**2))\n",
    "plt.title(\"Absolute velocity ($\\sqrt{v_x^2 + v_y^2}$)\")\n",
    "plt.xlabel(\"x\")\n",
    "plt.show()"
   ]
  },
  {
   "cell_type": "markdown",
   "metadata": {},
   "source": [
    "# Stochastic Gradient Descent with Momentum"
   ]
  },
  {
   "cell_type": "code",
   "execution_count": null,
   "metadata": {
    "collapsed": true
   },
   "outputs": [],
   "source": [
    "class SGD_momentum():\n",
    "    def __init__(self, lr=0.001, beta=0.9, x=None, y=None):\n",
    "        self.lr = lr\n",
    "        if x == None or y == None:\n",
    "            self.x = np.random.rand()*10-5\n",
    "            self.y = np.random.rand()*10-5\n",
    "        else:\n",
    "            self.x = x\n",
    "            self.y = y\n",
    "        self.beta = beta\n",
    "        self.vx = 0\n",
    "        self.vy = 0\n",
    "        \n",
    "    def step(self, lr = None, beta=None):\n",
    "        if type(lr) == type(None):\n",
    "            lr = self.lr\n",
    "        if type(beta) == type(None):\n",
    "            beta = self.beta\n",
    "        f = ff(self.x, self.y)\n",
    "        dx = df_dx(self.x, self.y)\n",
    "        dy = df_dy(self.x, self.y)\n",
    "        \n",
    "        self.vx = beta * self.vx + lr * dx\n",
    "        self.vy = beta * self.vy + lr * dy\n",
    "        self.x += - self.vx\n",
    "        self.y += - self.vy\n",
    "            \n",
    "        return [self.x, self.y, dx, dy, self.vx, self.vy]\n",
    "\n"
   ]
  },
  {
   "cell_type": "code",
   "execution_count": null,
   "metadata": {
    "collapsed": false
   },
   "outputs": [],
   "source": [
    "np.random.seed(655324)\n",
    "xs,ys,vel_xs, vel_ys, dxs,dys= [x_start],[y_start],[],[],[],[]\n",
    "\n",
    "opt = SGD_momentum(x=x_start, y=y_start)\n",
    "errors=[]\n",
    "for epochs in range(300):\n",
    "    x, y, dx, dy, vel_x, vel_y= opt.step(lr=0.03333, beta=.65)\n",
    "    vel_xs.append(vel_x)\n",
    "    vel_ys.append(vel_y)\n",
    "    xs.append(x)\n",
    "    ys.append(y)\n",
    "    dxs.append(dx)\n",
    "    dys.append(dy)\n",
    "    errors.append(ff(x,y))\n",
    "plt.figure(figsize=[18,6])\n",
    "plt.plot(errors)\n",
    "plt.title(\"Error evolution over time. Minimum error obtained in {0} iterations: {1}\".format(len(errors), min(errors)))\n",
    "plt.xlabel(\"time (iterations)\")\n",
    "plt.ylabel(\"error\")\n",
    "plt.show()\n",
    "\n",
    "errors_momentum = errors"
   ]
  },
  {
   "cell_type": "markdown",
   "metadata": {},
   "source": [
    "### Spatial evolution "
   ]
  },
  {
   "cell_type": "code",
   "execution_count": null,
   "metadata": {
    "collapsed": false
   },
   "outputs": [],
   "source": [
    "plt.figure(figsize=[18,6])\n",
    "plt.subplot(131)\n",
    "plt.plot(xs[0:100])\n",
    "plt.title(\"X parameter evolution\")\n",
    "plt.xlabel(\"iterations\")\n",
    "plt.subplot(132)\n",
    "plt.plot(ys[0:100])\n",
    "plt.title(\"Y parameter evolution\")\n",
    "plt.xlabel(\"iterations\")\n",
    "plt.subplot(133)\n",
    "plt.plot(xs[0:100], ys[0:100])\n",
    "plt.title(\"x/y evolution\")\n",
    "plt.xlabel(\"x\")\n",
    "plt.show()"
   ]
  },
  {
   "cell_type": "markdown",
   "metadata": {},
   "source": [
    "### Dynamic evolution "
   ]
  },
  {
   "cell_type": "code",
   "execution_count": null,
   "metadata": {
    "collapsed": false
   },
   "outputs": [],
   "source": [
    "plt.figure(figsize=[18,6])\n",
    "plt.subplot(131)\n",
    "plt.plot(np.abs(vel_xs[0:100]))\n",
    "plt.title(\"X parameter velocity ($v_x$)\")\n",
    "plt.xlabel(\"iterations\")\n",
    "plt.subplot(132)\n",
    "plt.plot(np.abs(vel_ys[0:100]))\n",
    "plt.title(\"Y parameter velocity ($v_y$)\")\n",
    "plt.xlabel(\"iterations\")\n",
    "plt.subplot(133)\n",
    "plt.plot(np.sqrt(np.array(vel_xs[0:100])**2 + np.array(vel_ys[0:100])**2))\n",
    "plt.title(\"Absolute velocity ($\\sqrt{v_x^2 + v_y^2}$)\")\n",
    "plt.xlabel(\"x\")\n",
    "plt.show()"
   ]
  },
  {
   "cell_type": "markdown",
   "metadata": {},
   "source": [
    "# Global comparison"
   ]
  },
  {
   "cell_type": "code",
   "execution_count": null,
   "metadata": {
    "collapsed": false
   },
   "outputs": [],
   "source": [
    "plt.figure(figsize=[18,6])\n",
    "plt.plot(errors_sgd)\n",
    "plt.plot(errors_momentum)\n",
    "plt.title(\"Error comparison among the optimizers shown above\")\n",
    "plt.ylabel(\"error\")\n",
    "plt.xlabel(\"time (iterations)\")\n",
    "plt.legend(labels=[\"SGD\", \"SGD + Momentum\"])\n",
    "plt.show()"
   ]
  },
  {
   "cell_type": "code",
   "execution_count": null,
   "metadata": {
    "collapsed": true
   },
   "outputs": [],
   "source": []
  }
 ],
 "metadata": {
  "anaconda-cloud": {},
  "kernelspec": {
   "display_name": "Python [Root]",
   "language": "python",
   "name": "Python [Root]"
  },
  "language_info": {
   "codemirror_mode": {
    "name": "ipython",
    "version": 2
   },
   "file_extension": ".py",
   "mimetype": "text/x-python",
   "name": "python",
   "nbconvert_exporter": "python",
   "pygments_lexer": "ipython2",
   "version": "2.7.12"
  }
 },
 "nbformat": 4,
 "nbformat_minor": 0
}
