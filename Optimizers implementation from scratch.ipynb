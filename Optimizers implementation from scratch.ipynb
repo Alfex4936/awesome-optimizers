{
 "cells": [
  {
   "cell_type": "code",
   "execution_count": null,
   "metadata": {
    "collapsed": false
   },
   "outputs": [],
   "source": [
    "%matplotlib inline\n",
    "import numpy as np\n",
    "import matplotlib.pyplot as plt\n",
    "from mpl_toolkits.mplot3d import Axes3D\n",
    "import seaborn as sns\n",
    "from sklearn.metrics import mean_absolute_error"
   ]
  },
  {
   "cell_type": "code",
   "execution_count": null,
   "metadata": {
    "collapsed": false
   },
   "outputs": [],
   "source": [
    "# f' = 0.26 * (x**2 + y**2) - 0.48*x*y\n",
    "# e = (f' - f) ** 2 = (0.26 * (x ** 2 + y ** 2) - 0.48 * x * y - f) ** 2\n",
    "# de/dx = 2 * f' * (0.52*x - 0.48*y)\n",
    "# de/dy = de/dx\n",
    "#noise_epsilon = lambda : np.random.randn()/3\n",
    "noise_epsilon = lambda :0\n",
    "ff = lambda x, y: 10 * x**2 + 0.005 * y**2 \n",
    "df_dx = lambda x, y: 20*x + noise_epsilon()\n",
    "df_dy = lambda x, y: 0.01*y + noise_epsilon()\n",
    "\n",
    "x_start = -5.0\n",
    "y_start = -50\n",
    "iterations = 300\n",
    "learning_rate = 0.0333"
   ]
  },
  {
   "cell_type": "code",
   "execution_count": null,
   "metadata": {
    "collapsed": false
   },
   "outputs": [],
   "source": [
    "# f' = 0.26 * (x**2 + y**2) - 0.48*x*y\n",
    "# e = (f' - f) ** 2 = (0.26 * (x ** 2 + y ** 2) - 0.48 * x * y - f) ** 2\n",
    "# de/dx = 2 * f' * (0.52*x - 0.48*y)\n",
    "# de/dy = de/dx\n",
    "#noise_epsilon = lambda : np.random.randn()/3\n",
    "noise_epsilon = lambda :0\n",
    "ff = lambda x, y: x**2  -  y**2  \n",
    "df_dx = lambda x, y: 2*x + noise_epsilon()\n",
    "df_dy = lambda x, y: -2*y + noise_epsilon()\n",
    "\n",
    "x_start = -5.0\n",
    "y_start = 0.0002\n",
    "iterations = 300\n",
    "learning_rate = 0.0333"
   ]
  },
  {
   "cell_type": "code",
   "execution_count": null,
   "metadata": {
    "collapsed": false,
    "scrolled": false
   },
   "outputs": [],
   "source": [
    "fig = plt.figure(figsize=[20,12])\n",
    "ax = fig.gca(projection='3d')\n",
    "x = y = np.arange(-10.0, 10, 0.1)\n",
    "y = np.arange(-10, 10, 0.1)\n",
    "X, Y = np.meshgrid(x, y)\n",
    "zs = np.array([ff(x,y) for x,y in zip(np.ravel(X), np.ravel(Y))])\n",
    "Z = zs.reshape(X.shape)\n",
    "Gx, Gy = np.gradient(Z) # gradients with respect to x and y\n",
    "G = (Gx**2.0+Gy**2.0)**.5  # gradient magnitude\n",
    "N = G/G.max()  # normalize 0..1\n",
    "\n",
    "ax.plot_surface(X, Y, Z, cmap=plt.cm.coolwarm, antialiased=False, shade=False, \n",
    "                rstride=5, cstride=1, linewidth=0)\n",
    "ax.view_init(elev=30., azim=70)\n",
    "\n"
   ]
  },
  {
   "cell_type": "markdown",
   "metadata": {},
   "source": [
    "# Stochastic Gradient Descent"
   ]
  },
  {
   "cell_type": "code",
   "execution_count": null,
   "metadata": {
    "collapsed": true
   },
   "outputs": [],
   "source": [
    "class SGD():\n",
    "    def __init__(self, lr=0.001, x=None, y=None):\n",
    "        self.lr = lr\n",
    "        if x==None or y==None:\n",
    "            self.x = np.random.rand()*10-5\n",
    "            self.y = np.random.rand()*10-5\n",
    "        else:\n",
    "            self.x = x\n",
    "            self.y = y\n",
    "    def step(self, lr = None):\n",
    "        if not lr:\n",
    "            lr = self.lr\n",
    "        # derivative\n",
    "        f = ff(self.x, self.y)\n",
    "        dx = df_dx(self.x, self.y)\n",
    "        dy = df_dy(self.x, self.y)\n",
    "        self.x = self.x - lr*dx\n",
    "        self.y = self.y - lr*dy\n",
    "        return [self.x, self.y, dx, dy]\n",
    "        "
   ]
  },
  {
   "cell_type": "code",
   "execution_count": null,
   "metadata": {
    "collapsed": false
   },
   "outputs": [],
   "source": [
    "np.random.seed(655324)\n",
    "opt = SGD(x=x_start, y=y_start)\n",
    "errors=[ff(x_start, y_start)]\n",
    "xs,ys, dxs,dys= [x_start],[y_start],[],[]\n",
    "sns.set_context(\"talk\")\n",
    "for epochs in range(iterations):\n",
    "    x, y, dx, dy = opt.step(lr=learning_rate)\n",
    "    xs.append(x)\n",
    "    ys.append(y)\n",
    "    dxs.append(dx)\n",
    "    dys.append(dy)\n",
    "    errors.append(ff(x,y))\n",
    "plt.figure(figsize=[18,6])\n",
    "plt.plot(errors)\n",
    "plt.title(\"Error evolution over time. Minimum error obtained in {0} iterations: {1}\".format(len(errors), min(errors)))\n",
    "plt.xlabel(\"time (iterations)\")\n",
    "plt.ylabel(\"error\")\n",
    "plt.show()\n",
    "\n",
    "errors_sgd = errors\n",
    "xs_sgd = xs\n",
    "ys_sgd = ys"
   ]
  },
  {
   "cell_type": "markdown",
   "metadata": {},
   "source": [
    "### Spatial evolution"
   ]
  },
  {
   "cell_type": "code",
   "execution_count": null,
   "metadata": {
    "collapsed": false
   },
   "outputs": [],
   "source": [
    "plt.figure(figsize=[18,6])\n",
    "plt.subplot(131)\n",
    "plt.plot(xs)\n",
    "plt.title(\"X parameter evolution\")\n",
    "plt.xlabel(\"iterations\")\n",
    "plt.subplot(132)\n",
    "plt.plot(ys)\n",
    "plt.title(\"Y parameter evolution\")\n",
    "plt.xlabel(\"iterations\")\n",
    "plt.subplot(133)\n",
    "plt.plot(xs, ys)\n",
    "plt.title(\"x/y evolution\")\n",
    "plt.xlabel(\"x\")\n",
    "plt.show()"
   ]
  },
  {
   "cell_type": "markdown",
   "metadata": {},
   "source": [
    "### Dynamic evolution"
   ]
  },
  {
   "cell_type": "code",
   "execution_count": null,
   "metadata": {
    "collapsed": false
   },
   "outputs": [],
   "source": [
    "vel_xs=np.diff(xs)\n",
    "vel_ys=np.diff(ys)\n",
    "plt.figure(figsize=[18,6])\n",
    "plt.subplot(131)\n",
    "plt.plot(np.abs(vel_xs[0:100]))\n",
    "plt.title(\"X parameter velocity (momentum; $v_x$)\")\n",
    "plt.xlabel(\"iterations\")\n",
    "plt.subplot(132)\n",
    "plt.plot(np.abs(vel_ys[0:100]))\n",
    "plt.title(\"Y parameter velocity (momentum; $v_y$)\")\n",
    "plt.xlabel(\"iterations\")\n",
    "plt.subplot(133)\n",
    "plt.plot(np.sqrt(np.array(vel_xs[0:100])**2 + np.array(vel_ys[0:100])**2))\n",
    "plt.title(\"Absolute velocity ($\\sqrt{v_x^2 + v_y^2}$)\")\n",
    "plt.xlabel(\"x\")\n",
    "plt.show()"
   ]
  },
  {
   "cell_type": "markdown",
   "metadata": {},
   "source": [
    "# Stochastic Gradient Descent with Momentum"
   ]
  },
  {
   "cell_type": "code",
   "execution_count": null,
   "metadata": {
    "collapsed": true
   },
   "outputs": [],
   "source": [
    "class SGD_momentum():\n",
    "    def __init__(self, lr=0.001, beta=0.9, x=None, y=None):\n",
    "        self.lr = lr\n",
    "        if x == None or y == None:\n",
    "            self.x = np.random.rand()*10-5\n",
    "            self.y = np.random.rand()*10-5\n",
    "        else:\n",
    "            self.x = x\n",
    "            self.y = y\n",
    "        self.beta = beta\n",
    "        self.vx = 0\n",
    "        self.vy = 0\n",
    "        \n",
    "    def step(self, lr = None, beta=None):\n",
    "        if type(lr) == type(None):\n",
    "            lr = self.lr\n",
    "        if type(beta) == type(None):\n",
    "            beta = self.beta\n",
    "        f = ff(self.x, self.y)\n",
    "        dx = df_dx(self.x, self.y)\n",
    "        dy = df_dy(self.x, self.y)\n",
    "        \n",
    "        self.vx = beta * self.vx + lr * dx\n",
    "        self.vy = beta * self.vy + lr * dy\n",
    "        self.x += - self.vx\n",
    "        self.y += - self.vy\n",
    "            \n",
    "        return [self.x, self.y, dx, dy, self.vx, self.vy]\n",
    "\n"
   ]
  },
  {
   "cell_type": "code",
   "execution_count": null,
   "metadata": {
    "collapsed": false
   },
   "outputs": [],
   "source": [
    "np.random.seed(655324)\n",
    "xs,ys,vel_xs, vel_ys, dxs,dys= [x_start],[y_start],[],[],[],[]\n",
    "\n",
    "opt = SGD_momentum(x=x_start, y=y_start)\n",
    "errors=[ff(x_start, y_start)]\n",
    "for epochs in range(iterations):\n",
    "    x, y, dx, dy, vel_x, vel_y= opt.step(lr=learning_rate, beta=.9)\n",
    "    vel_xs.append(vel_x)\n",
    "    vel_ys.append(vel_y)\n",
    "    xs.append(x)\n",
    "    ys.append(y)\n",
    "    dxs.append(dx)\n",
    "    dys.append(dy)\n",
    "    errors.append(ff(x,y))\n",
    "plt.figure(figsize=[18,6])\n",
    "plt.plot(errors)\n",
    "plt.title(\"Error evolution over time. Minimum error obtained in {0} iterations: {1}\".format(len(errors), min(errors)))\n",
    "plt.xlabel(\"time (iterations)\")\n",
    "plt.ylabel(\"error\")\n",
    "plt.show()\n",
    "\n",
    "errors_momentum = errors\n",
    "xs_momentum = xs\n",
    "ys_momentum = ys"
   ]
  },
  {
   "cell_type": "markdown",
   "metadata": {},
   "source": [
    "### Spatial evolution "
   ]
  },
  {
   "cell_type": "code",
   "execution_count": null,
   "metadata": {
    "collapsed": false
   },
   "outputs": [],
   "source": [
    "plt.figure(figsize=[18,6])\n",
    "plt.subplot(131)\n",
    "plt.plot(xs[0:100])\n",
    "plt.title(\"X parameter evolution\")\n",
    "plt.xlabel(\"iterations\")\n",
    "plt.subplot(132)\n",
    "plt.plot(ys[0:100])\n",
    "plt.title(\"Y parameter evolution\")\n",
    "plt.xlabel(\"iterations\")\n",
    "plt.subplot(133)\n",
    "plt.plot(xs[0:100], ys[0:100])\n",
    "plt.title(\"x/y evolution\")\n",
    "plt.xlabel(\"x\")\n",
    "plt.show()"
   ]
  },
  {
   "cell_type": "markdown",
   "metadata": {},
   "source": [
    "### Dynamic evolution "
   ]
  },
  {
   "cell_type": "code",
   "execution_count": null,
   "metadata": {
    "collapsed": false
   },
   "outputs": [],
   "source": [
    "plt.figure(figsize=[18,6])\n",
    "plt.subplot(131)\n",
    "plt.plot(np.abs(vel_xs[0:100]))\n",
    "plt.title(\"X parameter velocity ($v_x$)\")\n",
    "plt.xlabel(\"iterations\")\n",
    "plt.subplot(132)\n",
    "plt.plot(np.abs(vel_ys[0:100]))\n",
    "plt.title(\"Y parameter velocity ($v_y$)\")\n",
    "plt.xlabel(\"iterations\")\n",
    "plt.subplot(133)\n",
    "plt.plot(np.sqrt(np.array(vel_xs[0:100])**2 + np.array(vel_ys[0:100])**2))\n",
    "plt.title(\"Absolute velocity ($\\sqrt{v_x^2 + v_y^2}$)\")\n",
    "plt.xlabel(\"x\")\n",
    "plt.show()"
   ]
  },
  {
   "cell_type": "markdown",
   "metadata": {},
   "source": [
    "## Stochastic Gradient Descent with Nesterov Momentum"
   ]
  },
  {
   "cell_type": "code",
   "execution_count": null,
   "metadata": {
    "collapsed": true
   },
   "outputs": [],
   "source": [
    "class SGD_nestrov_momentum():\n",
    "    def __init__(self, lr=0.001, beta=0.9, x=None, y=None):\n",
    "        self.lr = lr\n",
    "        if x == None or y == None:\n",
    "            self.x = np.random.rand()*10-5\n",
    "            self.y = np.random.rand()*10-5\n",
    "        else:\n",
    "            self.x = x\n",
    "            self.y = y\n",
    "        self.beta = beta\n",
    "        self.vx = None\n",
    "        self.vy = None\n",
    "        \n",
    "    def step(self, lr = None, beta=None):\n",
    "        f = ff(self.x, self.y)\n",
    "        dx = df_dx(self.x, self.y)\n",
    "        dy = df_dy(self.x, self.y)\n",
    "        \n",
    "        if type(lr) == type(None):\n",
    "            lr = self.lr\n",
    "        if type(beta) == type(None):\n",
    "            beta = self.beta\n",
    "        if type(self.vx) == type(None) or type(self.vy)==type(None):\n",
    "            self.vx = lr * dx\n",
    "            self.vy = lr * dy\n",
    "        else:\n",
    "            dx_in_vx = df_dx(self.x-self.vx, self.y-self.vy)\n",
    "            dy_in_vy = df_dy(self.x-self.vx, self.y-self.vy)\n",
    "            self.vx = beta * self.vx + lr * dx_in_vx\n",
    "            self.vy = beta * self.vy + lr * dy_in_vy\n",
    "        self.x += - self.vx\n",
    "        self.y += - self.vy\n",
    "            \n",
    "        return [self.x, self.y, dx, dy, self.vx, self.vy]\n"
   ]
  },
  {
   "cell_type": "code",
   "execution_count": null,
   "metadata": {
    "collapsed": false
   },
   "outputs": [],
   "source": [
    "np.random.seed(655324)\n",
    "xs,ys,vel_xs, vel_ys, dxs,dys= [x_start],[y_start],[],[],[],[]\n",
    "\n",
    "opt = SGD_nestrov_momentum(x=x_start, y=y_start)\n",
    "errors=[ff(x_start, y_start)]\n",
    "for epochs in range(iterations):\n",
    "    x, y, dx, dy, vel_x, vel_y= opt.step(lr=learning_rate, beta=.9)\n",
    "    vel_xs.append(vel_x)\n",
    "    vel_ys.append(vel_y)\n",
    "    xs.append(x)\n",
    "    ys.append(y)\n",
    "    dxs.append(dx)\n",
    "    dys.append(dy)\n",
    "    errors.append(ff(x,y))\n",
    "plt.figure(figsize=[18,6])\n",
    "plt.plot(errors)\n",
    "plt.title(\"Error evolution over time. Minimum error obtained in {0} iterations: {1}\".format(len(errors), min(errors)))\n",
    "plt.xlabel(\"time (iterations)\")\n",
    "plt.ylabel(\"error\")\n",
    "plt.show()\n",
    "\n",
    "errors_nestrov_momentum = errors\n",
    "xs_nestrov_momentum = xs\n",
    "ys_nestrov_momentum = ys"
   ]
  },
  {
   "cell_type": "markdown",
   "metadata": {
    "collapsed": true
   },
   "source": [
    "### Spatial evolution"
   ]
  },
  {
   "cell_type": "code",
   "execution_count": null,
   "metadata": {
    "collapsed": false
   },
   "outputs": [],
   "source": [
    "plt.figure(figsize=[18,6])\n",
    "plt.subplot(131)\n",
    "plt.plot(xs[0:100])\n",
    "plt.title(\"X parameter evolution\")\n",
    "plt.xlabel(\"iterations\")\n",
    "plt.subplot(132)\n",
    "plt.plot(ys[0:100])\n",
    "plt.title(\"Y parameter evolution\")\n",
    "plt.xlabel(\"iterations\")\n",
    "plt.subplot(133)\n",
    "plt.plot(xs[0:100], ys[0:100])\n",
    "plt.title(\"x/y evolution\")\n",
    "plt.xlabel(\"x\")\n",
    "plt.show()"
   ]
  },
  {
   "cell_type": "markdown",
   "metadata": {},
   "source": [
    "### Dynamic evolution"
   ]
  },
  {
   "cell_type": "code",
   "execution_count": null,
   "metadata": {
    "collapsed": false
   },
   "outputs": [],
   "source": [
    "plt.figure(figsize=[18,6])\n",
    "plt.subplot(131)\n",
    "plt.plot(np.abs(vel_xs[0:100]))\n",
    "plt.title(\"X parameter velocity ($v_x$)\")\n",
    "plt.xlabel(\"iterations\")\n",
    "plt.subplot(132)\n",
    "plt.plot(np.abs(vel_ys[0:100]))\n",
    "plt.title(\"Y parameter velocity ($v_y$)\")\n",
    "plt.xlabel(\"iterations\")\n",
    "plt.subplot(133)\n",
    "plt.plot(np.sqrt(np.array(vel_xs[0:100])**2 + np.array(vel_ys[0:100])**2))\n",
    "plt.title(\"Absolute velocity ($\\sqrt{v_x^2 + v_y^2}$)\")\n",
    "plt.xlabel(\"x\")\n",
    "plt.show()"
   ]
  },
  {
   "cell_type": "markdown",
   "metadata": {},
   "source": [
    "# Adagrad"
   ]
  },
  {
   "cell_type": "code",
   "execution_count": null,
   "metadata": {
    "collapsed": true
   },
   "outputs": [],
   "source": [
    "class AdaGrad():\n",
    "    def __init__(self, lr=0.001, x=None, y=None):\n",
    "        self.lr = lr\n",
    "        if x==None or y==None:\n",
    "            self.x = np.random.rand()*10-5\n",
    "            self.y = np.random.rand()*10-5\n",
    "        else:\n",
    "            self.x = x\n",
    "            self.y = y\n",
    "        self.sumsq_dx = 0\n",
    "        self.sumsq_dy = 0\n",
    "    def step(self, lr = None):\n",
    "        epsilon = 1e-8\n",
    "        if not lr:\n",
    "            lr = self.lr\n",
    "        # derivative\n",
    "        f = ff(self.x, self.y)\n",
    "        dx = df_dx(self.x, self.y)\n",
    "        dy = df_dy(self.x, self.y)\n",
    "        self.sumsq_dx += dx**2\n",
    "        self.sumsq_dy += dy**2\n",
    "        self.x = self.x - (lr/(epsilon + np.sqrt(self.sumsq_dx)))*dx\n",
    "        self.y = self.y - (lr/(epsilon+np.sqrt(self.sumsq_dy+epsilon)))*dy\n",
    "        \n",
    "        return [self.x, self.y, dx, dy]\n",
    "        "
   ]
  },
  {
   "cell_type": "code",
   "execution_count": null,
   "metadata": {
    "collapsed": false
   },
   "outputs": [],
   "source": [
    "np.random.seed(655324)\n",
    "xs,ys,vel_xs, vel_ys, dxs,dys= [x_start],[y_start],[],[],[],[]\n",
    "\n",
    "opt = AdaGrad(x=x_start, y=y_start)\n",
    "errors=[ff(x_start, y_start)]\n",
    "for epochs in range(iterations):\n",
    "    x, y, dx, dy = opt.step(lr=learning_rate)\n",
    "    vel_xs.append(vel_x)\n",
    "    vel_ys.append(vel_y)\n",
    "    xs.append(x)\n",
    "    ys.append(y)\n",
    "    dxs.append(dx)\n",
    "    dys.append(dy)\n",
    "    errors.append(ff(x,y))\n",
    "plt.figure(figsize=[18,6])\n",
    "plt.plot(errors)\n",
    "plt.title(\"Error evolution over time. Minimum error obtained in {0} iterations: {1}\".format(len(errors), min(errors)))\n",
    "plt.xlabel(\"time (iterations)\")\n",
    "plt.ylabel(\"error\")\n",
    "plt.show()\n",
    "\n",
    "errors_adagrad = errors\n",
    "xs_adagrad = xs\n",
    "ys_adagrad = ys"
   ]
  },
  {
   "cell_type": "markdown",
   "metadata": {},
   "source": [
    "### Spatial evolution"
   ]
  },
  {
   "cell_type": "code",
   "execution_count": null,
   "metadata": {
    "collapsed": false
   },
   "outputs": [],
   "source": [
    "plt.figure(figsize=[18,6])\n",
    "plt.subplot(131)\n",
    "plt.plot(xs[0:100])\n",
    "plt.title(\"X parameter evolution\")\n",
    "plt.xlabel(\"iterations\")\n",
    "plt.subplot(132)\n",
    "plt.plot(ys[0:100])\n",
    "plt.title(\"Y parameter evolution\")\n",
    "plt.xlabel(\"iterations\")\n",
    "plt.subplot(133)\n",
    "plt.plot(xs[0:100], ys[0:100])\n",
    "plt.title(\"x/y evolution\")\n",
    "plt.xlabel(\"x\")\n",
    "plt.show()"
   ]
  },
  {
   "cell_type": "markdown",
   "metadata": {},
   "source": [
    "### Dynamic evolution"
   ]
  },
  {
   "cell_type": "code",
   "execution_count": null,
   "metadata": {
    "collapsed": false
   },
   "outputs": [],
   "source": [
    "vel_xs=np.diff(xs)\n",
    "vel_ys=np.diff(ys)\n",
    "plt.figure(figsize=[18,6])\n",
    "plt.subplot(131)\n",
    "plt.plot(np.abs(vel_xs[0:100]))\n",
    "plt.title(\"X parameter velocity (momentum; $v_x$)\")\n",
    "plt.xlabel(\"iterations\")\n",
    "plt.subplot(132)\n",
    "plt.plot(np.abs(vel_ys[0:100]))\n",
    "plt.title(\"Y parameter velocity (momentum; $v_y$)\")\n",
    "plt.xlabel(\"iterations\")\n",
    "plt.subplot(133)\n",
    "plt.plot(np.sqrt(np.array(vel_xs[0:100])**2 + np.array(vel_ys[0:100])**2))\n",
    "plt.title(\"Absolute velocity ($\\sqrt{v_x^2 + v_y^2}$)\")\n",
    "plt.xlabel(\"x\")\n",
    "plt.show()"
   ]
  },
  {
   "cell_type": "markdown",
   "metadata": {},
   "source": [
    "# RMSprop"
   ]
  },
  {
   "cell_type": "code",
   "execution_count": null,
   "metadata": {
    "collapsed": true
   },
   "outputs": [],
   "source": [
    "class RMSProp():\n",
    "    def __init__(self, lr=0.001, decay_rate=0.9, x=None, y=None):\n",
    "        self.lr = lr\n",
    "        self.decay_rate = decay_rate\n",
    "        if x==None or y==None:\n",
    "            self.x = np.random.rand()*10-5\n",
    "            self.y = np.random.rand()*10-5\n",
    "        else:\n",
    "            self.x = x\n",
    "            self.y = y\n",
    "        self.decay_x = 0\n",
    "        self.decay_y = 0\n",
    "    def step(self, lr=None, decay_rate=None):\n",
    "        epsilon = 1e-8\n",
    "        if not lr:\n",
    "            lr = self.lr\n",
    "        if not decay_rate:\n",
    "            decay_rate = self.decay_rate\n",
    "        # derivative\n",
    "        f = ff(self.x, self.y)\n",
    "        dx = df_dx(self.x, self.y)\n",
    "        dy = df_dy(self.x, self.y)\n",
    "        self.decay_x = decay_rate * (self.decay_x) + (1-decay_rate)*dx**2\n",
    "        self.decay_y = decay_rate * (self.decay_y) + (1-decay_rate)*dy**2\n",
    "        self.x = self.x - (lr/(epsilon + np.sqrt(self.decay_x)))*dx\n",
    "        self.y = self.y - (lr/(epsilon + np.sqrt(self.decay_y)))*dy\n",
    "        \n",
    "        return [self.x, self.y, dx, dy]\n",
    "        "
   ]
  },
  {
   "cell_type": "code",
   "execution_count": null,
   "metadata": {
    "collapsed": false
   },
   "outputs": [],
   "source": [
    "np.random.seed(655324)\n",
    "xs,ys,vel_xs, vel_ys, dxs,dys= [x_start],[y_start],[],[],[],[]\n",
    "\n",
    "opt = RMSProp(x=x_start, y=y_start)\n",
    "errors=[ff(x_start, y_start)]\n",
    "for epochs in range(iterations):\n",
    "    x, y, dx, dy = opt.step(lr=learning_rate, decay_rate=0.99)\n",
    "    vel_xs.append(vel_x)\n",
    "    vel_ys.append(vel_y)\n",
    "    xs.append(x)\n",
    "    ys.append(y)\n",
    "    dxs.append(dx)\n",
    "    dys.append(dy)\n",
    "    errors.append(ff(x,y))\n",
    "plt.figure(figsize=[18,6])\n",
    "plt.plot(errors)\n",
    "plt.title(\"Error evolution over time. Minimum error obtained in {0} iterations: {1}\".format(len(errors), min(errors)))\n",
    "plt.xlabel(\"time (iterations)\")\n",
    "plt.ylabel(\"error\")\n",
    "plt.show()\n",
    "\n",
    "errors_rmsprop = errors\n",
    "xs_rmsprop = xs\n",
    "ys_rmsprop = ys"
   ]
  },
  {
   "cell_type": "markdown",
   "metadata": {},
   "source": [
    "### Spatial evolution"
   ]
  },
  {
   "cell_type": "code",
   "execution_count": null,
   "metadata": {
    "collapsed": false
   },
   "outputs": [],
   "source": [
    "plt.figure(figsize=[18,6])\n",
    "plt.subplot(131)\n",
    "plt.plot(xs[0:100])\n",
    "plt.title(\"X parameter evolution\")\n",
    "plt.xlabel(\"iterations\")\n",
    "plt.subplot(132)\n",
    "plt.plot(ys[0:100])\n",
    "plt.title(\"Y parameter evolution\")\n",
    "plt.xlabel(\"iterations\")\n",
    "plt.subplot(133)\n",
    "plt.plot(xs[0:100], ys[0:100])\n",
    "plt.title(\"x/y evolution\")\n",
    "plt.xlabel(\"x\")\n",
    "plt.show()"
   ]
  },
  {
   "cell_type": "markdown",
   "metadata": {},
   "source": [
    "### Dynamic evolution"
   ]
  },
  {
   "cell_type": "code",
   "execution_count": null,
   "metadata": {
    "collapsed": false
   },
   "outputs": [],
   "source": [
    "vel_xs=np.diff(xs)\n",
    "vel_ys=np.diff(ys)\n",
    "plt.figure(figsize=[18,6])\n",
    "plt.subplot(131)\n",
    "plt.plot(np.abs(vel_xs[0:100]))\n",
    "plt.title(\"X parameter velocity (momentum; $v_x$)\")\n",
    "plt.xlabel(\"iterations\")\n",
    "plt.subplot(132)\n",
    "plt.plot(np.abs(vel_ys[0:100]))\n",
    "plt.title(\"Y parameter velocity (momentum; $v_y$)\")\n",
    "plt.xlabel(\"iterations\")\n",
    "plt.subplot(133)\n",
    "plt.plot(np.sqrt(np.array(vel_xs[0:100])**2 + np.array(vel_ys[0:100])**2))\n",
    "plt.title(\"Absolute velocity ($\\sqrt{v_x^2 + v_y^2}$)\")\n",
    "plt.xlabel(\"x\")\n",
    "plt.show()"
   ]
  },
  {
   "cell_type": "markdown",
   "metadata": {},
   "source": [
    "# AdaDelta"
   ]
  },
  {
   "cell_type": "code",
   "execution_count": null,
   "metadata": {
    "collapsed": true
   },
   "outputs": [],
   "source": [
    "class AdaDelta():\n",
    "    def __init__(self, lr=0.001, decay_rate=0.9, x=None, y=None):\n",
    "        self.lr = lr\n",
    "        self.decay_rate = decay_rate\n",
    "        if x==None or y==None:\n",
    "            self.x = np.random.rand()*10-5\n",
    "            self.y = np.random.rand()*10-5\n",
    "        else:\n",
    "            self.x = x\n",
    "            self.y = y\n",
    "        self.decay_x = 0\n",
    "        self.decay_y = 0\n",
    "        self.decay_dx = 1\n",
    "        self.decay_dy = 1\n",
    "        \n",
    "    def step(self, lr=None, decay_rate=None):\n",
    "        epsilon = 1e-8\n",
    "        if not lr:\n",
    "            lr = self.lr\n",
    "        if not decay_rate:\n",
    "            decay_rate = self.decay_rate\n",
    "        # derivative\n",
    "        f = ff(self.x, self.y)\n",
    "        dx = df_dx(self.x, self.y)\n",
    "        dy = df_dy(self.x, self.y)\n",
    "        # Update decays\n",
    "        self.decay_x = decay_rate * (self.decay_x) + (1-decay_rate)*dx**2\n",
    "        self.decay_y = decay_rate * (self.decay_y) + (1-decay_rate)*dy**2\n",
    "        \n",
    "        update_x = dx*((epsilon + np.sqrt(self.decay_dx))/(epsilon + np.sqrt(self.decay_x)))\n",
    "        update_y = dy*((epsilon + np.sqrt(self.decay_dy))/(epsilon + np.sqrt(self.decay_y)))\n",
    "        \n",
    "        self.x = self.x - (lr*update_x)\n",
    "        self.y = self.y - (lr*update_y)\n",
    "        \n",
    "        # Update decays d\n",
    "        self.decay_dx = decay_rate * (self.decay_dx) + (1-decay_rate)*update_x**2\n",
    "        self.decay_dy = decay_rate * (self.decay_dy) + (1-decay_rate)*update_y**2\n",
    "        \n",
    "        return [self.x, self.y, dx, dy]\n",
    "        \n",
    "        "
   ]
  },
  {
   "cell_type": "code",
   "execution_count": null,
   "metadata": {
    "collapsed": false
   },
   "outputs": [],
   "source": [
    "np.random.seed(655324)\n",
    "xs,ys,vel_xs, vel_ys, dxs,dys= [x_start],[y_start],[],[],[],[]\n",
    "\n",
    "opt = AdaDelta(x=x_start, y=y_start)\n",
    "errors=[ff(x_start, y_start)]\n",
    "for epochs in range(iterations):\n",
    "    x, y, dx, dy = opt.step(lr=learning_rate, decay_rate=0.99)\n",
    "    vel_xs.append(vel_x)\n",
    "    vel_ys.append(vel_y)\n",
    "    xs.append(x)\n",
    "    ys.append(y)\n",
    "    dxs.append(dx)\n",
    "    dys.append(dy)\n",
    "    errors.append(ff(x,y))\n",
    "plt.figure(figsize=[18,6])\n",
    "plt.plot(errors)\n",
    "plt.title(\"Error evolution over time. Minimum error obtained in {0} iterations: {1}\".format(len(errors), min(errors)))\n",
    "plt.xlabel(\"time (iterations)\")\n",
    "plt.ylabel(\"error\")\n",
    "plt.show()\n",
    "\n",
    "errors_adadelta = errors\n",
    "xs_adadelta = xs\n",
    "ys_adadelta = ys"
   ]
  },
  {
   "cell_type": "markdown",
   "metadata": {},
   "source": [
    "### Spatial evolution"
   ]
  },
  {
   "cell_type": "code",
   "execution_count": null,
   "metadata": {
    "collapsed": false
   },
   "outputs": [],
   "source": [
    "plt.figure(figsize=[18,6])\n",
    "plt.subplot(131)\n",
    "plt.plot(xs[0:100])\n",
    "plt.title(\"X parameter evolution\")\n",
    "plt.xlabel(\"iterations\")\n",
    "plt.subplot(132)\n",
    "plt.plot(ys[0:100])\n",
    "plt.title(\"Y parameter evolution\")\n",
    "plt.xlabel(\"iterations\")\n",
    "plt.subplot(133)\n",
    "plt.plot(xs[0:100], ys[0:100])\n",
    "plt.title(\"x/y evolution\")\n",
    "plt.xlabel(\"x\")\n",
    "plt.show()"
   ]
  },
  {
   "cell_type": "markdown",
   "metadata": {},
   "source": [
    "### Dynamic evolution"
   ]
  },
  {
   "cell_type": "code",
   "execution_count": null,
   "metadata": {
    "collapsed": false
   },
   "outputs": [],
   "source": [
    "vel_xs=np.diff(xs)\n",
    "vel_ys=np.diff(ys)\n",
    "plt.figure(figsize=[18,6])\n",
    "plt.subplot(131)\n",
    "plt.plot(np.abs(vel_xs[0:100]))\n",
    "plt.title(\"X parameter velocity (momentum; $v_x$)\")\n",
    "plt.xlabel(\"iterations\")\n",
    "plt.subplot(132)\n",
    "plt.plot(np.abs(vel_ys[0:100]))\n",
    "plt.title(\"Y parameter velocity (momentum; $v_y$)\")\n",
    "plt.xlabel(\"iterations\")\n",
    "plt.subplot(133)\n",
    "plt.plot(np.sqrt(np.array(vel_xs[0:100])**2 + np.array(vel_ys[0:100])**2))\n",
    "plt.title(\"Absolute velocity ($\\sqrt{v_x^2 + v_y^2}$)\")\n",
    "plt.xlabel(\"x\")\n",
    "plt.show()"
   ]
  },
  {
   "cell_type": "markdown",
   "metadata": {},
   "source": [
    "# ADAM"
   ]
  },
  {
   "cell_type": "code",
   "execution_count": null,
   "metadata": {
    "collapsed": true
   },
   "outputs": [],
   "source": [
    "class ADAM():\n",
    "    def __init__(self, lr=0.001, beta_1=0.9, beta_2=0.999, x=None, y=None):\n",
    "        self.lr = lr\n",
    "        if x==None or y==None:\n",
    "            self.x = np.random.rand()*10-5\n",
    "            self.y = np.random.rand()*10-5\n",
    "        else:\n",
    "            self.x = x\n",
    "            self.y = y\n",
    "        self.m_x = 0\n",
    "        self.m_y = 0\n",
    "        self.v_x = 0\n",
    "        self.v_y = 0\n",
    "        self.beta_1 = beta_1\n",
    "        self.beta_2 = beta_2\n",
    "        self.t = 0\n",
    "        \n",
    "    def step(self, lr = None):\n",
    "        self.t+=1\n",
    "        epsilon = 1e-8\n",
    "        if not lr:\n",
    "            lr = self.lr\n",
    "        # derivative\n",
    "        f = ff(self.x, self.y)\n",
    "        dx = df_dx(self.x, self.y)\n",
    "        dy = df_dy(self.x, self.y)\n",
    "        self.m_x = self.beta_1*self.m_x + (1-self.beta_1)*dx\n",
    "        self.m_y = self.beta_1*self.m_y + (1-self.beta_1)*dy\n",
    "        self.v_x = self.beta_2*self.v_x + (1-self.beta_2)*dx**2\n",
    "        self.v_y = self.beta_2*self.v_y + (1-self.beta_2)*dy**2\n",
    "        m_x_hat = self.m_x/(1-self.beta_1**self.t)\n",
    "        m_y_hat = self.m_y/(1-self.beta_1**self.t)\n",
    "        v_x_hat = self.v_x/(1-self.beta_2**self.t)\n",
    "        v_y_hat = self.v_y/(1-self.beta_2**self.t)\n",
    "        \n",
    "        \n",
    "        self.x = (self.x - lr*m_x_hat)/(np.sqrt(v_x_hat)+epsilon)\n",
    "        self.y = (self.y - lr*m_y_hat)/(np.sqrt(v_y_hat)+epsilon)\n",
    "        return [self.x, self.y, dx, dy]\n",
    "        "
   ]
  },
  {
   "cell_type": "code",
   "execution_count": null,
   "metadata": {
    "collapsed": false
   },
   "outputs": [],
   "source": [
    "np.random.seed(655324)\n",
    "opt = ADAM(x=x_start, y=y_start)\n",
    "errors=[ff(x_start, y_start)]\n",
    "xs,ys, dxs,dys= [x_start],[y_start],[],[]\n",
    "sns.set_context(\"talk\")\n",
    "for epochs in range(iterations):\n",
    "    x, y, dx, dy = opt.step(lr=learning_rate)\n",
    "    xs.append(x)\n",
    "    ys.append(y)\n",
    "    dxs.append(dx)\n",
    "    dys.append(dy)\n",
    "    errors.append(ff(x,y))\n",
    "plt.figure(figsize=[18,6])\n",
    "plt.plot(errors)\n",
    "plt.title(\"Error evolution over time. Minimum error obtained in {0} iterations: {1}\".format(len(errors), min(errors)))\n",
    "plt.xlabel(\"time (iterations)\")\n",
    "plt.ylabel(\"error\")\n",
    "plt.show()\n",
    "\n",
    "errors_adam = errors\n",
    "xs_adam = xs\n",
    "ys_adam = ys"
   ]
  },
  {
   "cell_type": "markdown",
   "metadata": {},
   "source": [
    "### Spatial evolution"
   ]
  },
  {
   "cell_type": "code",
   "execution_count": null,
   "metadata": {
    "collapsed": false
   },
   "outputs": [],
   "source": [
    "plt.figure(figsize=[18,6])\n",
    "plt.subplot(131)\n",
    "plt.plot(xs)\n",
    "plt.title(\"X parameter evolution\")\n",
    "plt.xlabel(\"iterations\")\n",
    "plt.subplot(132)\n",
    "plt.plot(ys)\n",
    "plt.title(\"Y parameter evolution\")\n",
    "plt.xlabel(\"iterations\")\n",
    "plt.subplot(133)\n",
    "plt.plot(xs, ys)\n",
    "plt.title(\"x/y evolution\")\n",
    "plt.xlabel(\"x\")\n",
    "plt.show()"
   ]
  },
  {
   "cell_type": "markdown",
   "metadata": {},
   "source": [
    "### Dynamic evolution"
   ]
  },
  {
   "cell_type": "code",
   "execution_count": null,
   "metadata": {
    "collapsed": false
   },
   "outputs": [],
   "source": [
    "vel_xs=np.diff(xs)\n",
    "vel_ys=np.diff(ys)\n",
    "plt.figure(figsize=[18,6])\n",
    "plt.subplot(131)\n",
    "plt.plot(np.abs(vel_xs[0:100]))\n",
    "plt.title(\"X parameter velocity (momentum; $v_x$)\")\n",
    "plt.xlabel(\"iterations\")\n",
    "plt.subplot(132)\n",
    "plt.plot(np.abs(vel_ys[0:100]))\n",
    "plt.title(\"Y parameter velocity (momentum; $v_y$)\")\n",
    "plt.xlabel(\"iterations\")\n",
    "plt.subplot(133)\n",
    "plt.plot(np.sqrt(np.array(vel_xs[0:100])**2 + np.array(vel_ys[0:100])**2))\n",
    "plt.title(\"Absolute velocity ($\\sqrt{v_x^2 + v_y^2}$)\")\n",
    "plt.xlabel(\"x\")\n",
    "plt.show()"
   ]
  },
  {
   "cell_type": "markdown",
   "metadata": {},
   "source": [
    "# Global comparison"
   ]
  },
  {
   "cell_type": "code",
   "execution_count": null,
   "metadata": {
    "collapsed": false
   },
   "outputs": [],
   "source": [
    "plt.figure(figsize=[18,6])\n",
    "plt.plot(errors_sgd)\n",
    "plt.plot(errors_momentum)\n",
    "plt.plot(errors_nestrov_momentum)\n",
    "plt.plot(errors_adagrad)\n",
    "plt.plot(errors_rmsprop)\n",
    "plt.plot(errors_adadelta)\n",
    "plt.plot(errors_adam, color=\"k\")\n",
    "plt.title(\"Error comparison among the optimizers shown above\")\n",
    "plt.ylabel(\"error\")\n",
    "plt.xlabel(\"time (iterations)\")\n",
    "plt.legend(labels=[\"SGD\", \"SGD + Momentum\", \"SGD + Nesterov Momentum\", \"AdaGrad\", \"RMSProp\", \"AdaDelta\", \"ADAM\"])\n",
    "plt.show()"
   ]
  },
  {
   "cell_type": "code",
   "execution_count": null,
   "metadata": {
    "collapsed": false
   },
   "outputs": [],
   "source": [
    "fig = plt.figure(figsize=[20,12])\n",
    "ax = fig.gca(projection='3d')\n",
    "x = y = np.arange(-5.0, 5.0000001, 0.1)\n",
    "y = np.arange(-60, 2, 0.1)\n",
    "X, Y = np.meshgrid(x, y)\n",
    "zs = np.array([ff(x,y) for x,y in zip(np.ravel(X), np.ravel(Y))])\n",
    "Z = zs.reshape(X.shape)\n",
    "Gx, Gy = np.gradient(Z) # gradients with respect to x and y\n",
    "G = (Gx**2.0+Gy**2.0)**.5  # gradient magnitude\n",
    "N = G/G.max()  # normalize 0..1\n",
    "\n",
    "ax.plot_surface(X, Y, Z, cmap=plt.cm.coolwarm, antialiased=False, shade=False, \n",
    "                rstride=5, cstride=1, linewidth=0)\n",
    "ax.view_init(elev=40., azim=80)\n",
    "#ax.set_aspect(0.3)\n",
    "\n",
    "ax.set_xlabel('X Label')\n",
    "ax.set_ylabel('Y Label')\n",
    "ax.set_zlabel('Z Label')\n",
    "ax.plot3D(xs=xs_sgd, ys=ys_sgd, zs=errors_sgd, color='b')\n",
    "ax.plot3D(xs=xs_momentum, ys=ys_momentum, zs=errors_momentum, color='g')\n",
    "ax.plot3D(xs=xs_nestrov_momentum, ys=ys_nestrov_momentum, zs=errors_nestrov_momentum, color='r')\n",
    "ax.plot3D(xs=xs_rmsprop, ys=ys_rmsprop, zs=errors_rmsprop, color='y')\n",
    "ax.plot3D(xs=xs_adadelta, ys=ys_adadelta, zs=errors_adadelta, color='turquoise')\n",
    "ax.plot3D(xs=xs_adagrad, ys=ys_adagrad, zs=errors_adagrad, color='purple')\n",
    "ax.plot3D(xs=xs_adam, ys=ys_adam, zs=errors_adam, color='k')\n",
    "plt.legend(labels=[\"SGD\", \"SGD + Momentum\", \"SGD + Nesterov Momentum\", \"AdaGrad\", \"RMSProp\", \"AdaDelta\", \"ADAM\"])\n",
    "\n",
    "plt.show()"
   ]
  },
  {
   "cell_type": "code",
   "execution_count": null,
   "metadata": {
    "collapsed": true
   },
   "outputs": [],
   "source": []
  },
  {
   "cell_type": "code",
   "execution_count": null,
   "metadata": {
    "collapsed": true
   },
   "outputs": [],
   "source": []
  }
 ],
 "metadata": {
  "anaconda-cloud": {},
  "kernelspec": {
   "display_name": "Python [conda root]",
   "language": "python",
   "name": "conda-root-py"
  },
  "language_info": {
   "codemirror_mode": {
    "name": "ipython",
    "version": 2
   },
   "file_extension": ".py",
   "mimetype": "text/x-python",
   "name": "python",
   "nbconvert_exporter": "python",
   "pygments_lexer": "ipython2",
   "version": "2.7.12"
  }
 },
 "nbformat": 4,
 "nbformat_minor": 0
}
